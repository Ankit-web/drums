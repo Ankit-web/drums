{
  "nbformat": 4,
  "nbformat_minor": 0,
  "metadata": {
    "colab": {
      "name": "svm_car-data",
      "provenance": [],
      "include_colab_link": true
    },
    "kernelspec": {
      "name": "python3",
      "display_name": "Python 3"
    }
  },
  "cells": [
    {
      "cell_type": "markdown",
      "metadata": {
        "id": "view-in-github",
        "colab_type": "text"
      },
      "source": [
        "<a href=\"https://colab.research.google.com/github/Ankit-web/drums/blob/main/svm_car_data.ipynb\" target=\"_parent\"><img src=\"https://colab.research.google.com/assets/colab-badge.svg\" alt=\"Open In Colab\"/></a>"
      ]
    },
    {
      "cell_type": "code",
      "metadata": {
        "id": "QgNllofcPb2t"
      },
      "source": [
        "#Import the Libraries\n",
        "import numpy as np\n",
        "import pandas as pd\n",
        "import matplotlib.pyplot as plt\n"
      ],
      "execution_count": 3,
      "outputs": []
    },
    {
      "cell_type": "markdown",
      "metadata": {
        "id": "m7nSZQkmP1be"
      },
      "source": [
        "![alt text](https://alwakalat.com/storage/car_9jy85IYeigIfUIR2JC0E.jpeg)"
      ]
    },
    {
      "cell_type": "code",
      "metadata": {
        "id": "TW6S9lGNPe9C"
      },
      "source": [
        "#Import the Dataset\n",
        "Dataset = pd.read_csv(\"/content/cars_dataset.csv\")\n",
        "X = Dataset.iloc[:,:-1].values\n",
        "y = Dataset.iloc[:, -1].values"
      ],
      "execution_count": 7,
      "outputs": []
    },
    {
      "cell_type": "code",
      "metadata": {
        "id": "cjAe8yIsPe6S"
      },
      "source": [
        "#list all the string value and convert them in to int values!!\n",
        "#Note we are doing only labelencoder\n",
        "from sklearn.preprocessing import LabelEncoder\n",
        "labelencoder = LabelEncoder()\n",
        "X[:, 0] = labelencoder.fit_transform(X[:, 0])\n",
        "X[:, 1] = labelencoder.fit_transform(X[:, 1])\n",
        "X[:, 2] = labelencoder.fit_transform(X[:, 2])\n",
        "X[:, 3] = labelencoder.fit_transform(X[:, 3])\n",
        "X[:, 4] = labelencoder.fit_transform(X[:, 4])\n",
        "X[:, 5] = labelencoder.fit_transform(X[:, 5])"
      ],
      "execution_count": 8,
      "outputs": []
    },
    {
      "cell_type": "code",
      "metadata": {
        "id": "wwn2woMsPe2i"
      },
      "source": [
        "#Feature scaling the independent variable\n",
        "from sklearn.preprocessing import StandardScaler\n",
        "sc_X = StandardScaler()\n",
        "X = sc_X.fit_transform(X)"
      ],
      "execution_count": 9,
      "outputs": []
    },
    {
      "cell_type": "code",
      "metadata": {
        "id": "3DELaROUPe0T"
      },
      "source": [
        "#Splitting the data into train and test\n",
        "from sklearn.model_selection import train_test_split\n",
        "X_train, X_test, y_train, y_test = train_test_split(X, y, test_size = 0.3, random_state = 42)\n"
      ],
      "execution_count": 10,
      "outputs": []
    },
    {
      "cell_type": "code",
      "metadata": {
        "id": "V3U_cVD0PeyC"
      },
      "source": [
        "#SVM Classification model\n",
        "from sklearn.svm import SVC\n",
        "classifier = SVC(C = 10.0, kernel = \"linear\",decision_function_shape='ovr')\n",
        "classifier.fit(X_train, y_train)\n",
        "\n",
        "#Predicting the output for our SGD Linear Model with the test set\n",
        "y_pred = classifier.predict(X_test)\n"
      ],
      "execution_count": 11,
      "outputs": []
    },
    {
      "cell_type": "code",
      "metadata": {
        "id": "1W--dYwVPev0",
        "colab": {
          "base_uri": "https://localhost:8080/"
        },
        "outputId": "78dd58eb-0e6c-44d3-cd4e-fd1c013c2351"
      },
      "source": [
        "#evaluating our model.\n",
        "from sklearn.metrics import confusion_matrix, accuracy_score, f1_score\n",
        "acc_train = accuracy_score(y_train, classifier.predict(X_train))\n",
        "f1_train = f1_score(y_train, classifier.predict(X_train), average= 'weighted')\n",
        "\n",
        "print(\"Traing set results\")\n",
        "print(\"ACCURACY for train set\",acc_train)\n",
        "print(\"F1 SCORE for train set\",f1_train)\n"
      ],
      "execution_count": 12,
      "outputs": [
        {
          "output_type": "stream",
          "name": "stdout",
          "text": [
            "Traing set results\n",
            "ACCURACY for train set 0.7361455748552522\n",
            "F1 SCORE for train set 0.6622604642278613\n"
          ]
        }
      ]
    },
    {
      "cell_type": "code",
      "metadata": {
        "id": "buQU5HYiPetG",
        "colab": {
          "base_uri": "https://localhost:8080/"
        },
        "outputId": "a13f3423-a0e2-42bb-8e90-4566e65c8140"
      },
      "source": [
        "#evaluate our test set\n",
        "acc_test = accuracy_score(y_test, y_pred)\n",
        "f1_test = f1_score(y_test, y_pred, average= 'weighted')\n",
        "\n",
        "print(\"Test set results\")\n",
        "print(\"ACCURACY for test set\",acc_test)\n",
        "print(\"F1 SCORE for test set\",f1_test)\n"
      ],
      "execution_count": 13,
      "outputs": [
        {
          "output_type": "stream",
          "name": "stdout",
          "text": [
            "Test set results\n",
            "ACCURACY for test set 0.7167630057803468\n",
            "F1 SCORE for test set 0.6341355089951095\n"
          ]
        }
      ]
    },
    {
      "cell_type": "code",
      "metadata": {
        "id": "adY3OFRDPyej",
        "colab": {
          "base_uri": "https://localhost:8080/"
        },
        "outputId": "1440352f-647c-4479-d57d-9a69872fd960"
      },
      "source": [
        "\n",
        "#Confusion Matrix\n",
        "cm = confusion_matrix(y_test,y_pred)\n",
        "print(cm)\n"
      ],
      "execution_count": 14,
      "outputs": [
        {
          "output_type": "stream",
          "name": "stdout",
          "text": [
            "[[ 17   0 102   0]\n",
            " [  1   0  17   0]\n",
            " [  5   0 355   0]\n",
            " [ 12   0  10   0]]\n"
          ]
        }
      ]
    },
    {
      "cell_type": "code",
      "metadata": {
        "id": "q1U5v0L3P_46"
      },
      "source": [],
      "execution_count": null,
      "outputs": []
    }
  ]
}